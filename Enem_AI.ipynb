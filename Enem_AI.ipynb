{
 "cells": [
  {
   "cell_type": "markdown",
   "metadata": {},
   "source": [
    "<h2>#Vamos começar importando a base de dados a ser estudada<h2>\n",
    "#No nosso caso será um base do <b>ENEM 2022</b> e faremos alguns estudos sobre ela"
   ]
  },
  {
   "cell_type": "markdown",
   "metadata": {},
   "source": [
    "Primeiro vamos importar a base"
   ]
  },
  {
   "cell_type": "code",
   "execution_count": 49,
   "metadata": {},
   "outputs": [],
   "source": [
    "import pandas as pd"
   ]
  },
  {
   "cell_type": "markdown",
   "metadata": {},
   "source": [
    "Leitura limitada em <b>1000</b> linhas"
   ]
  },
  {
   "cell_type": "code",
   "execution_count": 50,
   "metadata": {},
   "outputs": [],
   "source": [
    "dfEnem = pd.read_csv('./dataset/MICRODADOS_ENEM_2022_REDUZIDO.csv', encoding= 'iso8859-1', sep = ';', nrows= 1000)"
   ]
  },
  {
   "cell_type": "code",
   "execution_count": 51,
   "metadata": {},
   "outputs": [
    {
     "name": "stdout",
     "output_type": "stream",
     "text": [
      "<class 'pandas.core.frame.DataFrame'>\n",
      "RangeIndex: 1000 entries, 0 to 999\n",
      "Data columns (total 76 columns):\n",
      " #   Column                  Non-Null Count  Dtype  \n",
      "---  ------                  --------------  -----  \n",
      " 0   NU_INSCRICAO            1000 non-null   int64  \n",
      " 1   NU_ANO                  1000 non-null   int64  \n",
      " 2   TP_FAIXA_ETARIA         1000 non-null   int64  \n",
      " 3   TP_SEXO                 1000 non-null   object \n",
      " 4   TP_ESTADO_CIVIL         1000 non-null   int64  \n",
      " 5   TP_COR_RACA             1000 non-null   int64  \n",
      " 6   TP_NACIONALIDADE        1000 non-null   int64  \n",
      " 7   TP_ST_CONCLUSAO         1000 non-null   int64  \n",
      " 8   TP_ANO_CONCLUIU         1000 non-null   int64  \n",
      " 9   TP_ESCOLA               1000 non-null   int64  \n",
      " 10  TP_ENSINO               239 non-null    float64\n",
      " 11  IN_TREINEIRO            1000 non-null   int64  \n",
      " 12  CO_MUNICIPIO_ESC        141 non-null    float64\n",
      " 13  NO_MUNICIPIO_ESC        141 non-null    object \n",
      " 14  CO_UF_ESC               141 non-null    float64\n",
      " 15  SG_UF_ESC               141 non-null    object \n",
      " 16  TP_DEPENDENCIA_ADM_ESC  141 non-null    float64\n",
      " 17  TP_LOCALIZACAO_ESC      141 non-null    float64\n",
      " 18  TP_SIT_FUNC_ESC         141 non-null    float64\n",
      " 19  CO_MUNICIPIO_PROVA      1000 non-null   int64  \n",
      " 20  NO_MUNICIPIO_PROVA      1000 non-null   object \n",
      " 21  CO_UF_PROVA             1000 non-null   int64  \n",
      " 22  SG_UF_PROVA             1000 non-null   object \n",
      " 23  TP_PRESENCA_CN          1000 non-null   int64  \n",
      " 24  TP_PRESENCA_CH          1000 non-null   int64  \n",
      " 25  TP_PRESENCA_LC          1000 non-null   int64  \n",
      " 26  TP_PRESENCA_MT          1000 non-null   int64  \n",
      " 27  CO_PROVA_CN             620 non-null    float64\n",
      " 28  CO_PROVA_CH             674 non-null    float64\n",
      " 29  CO_PROVA_LC             674 non-null    float64\n",
      " 30  CO_PROVA_MT             620 non-null    float64\n",
      " 31  NU_NOTA_CN              620 non-null    float64\n",
      " 32  NU_NOTA_CH              674 non-null    float64\n",
      " 33  NU_NOTA_LC              674 non-null    float64\n",
      " 34  NU_NOTA_MT              620 non-null    float64\n",
      " 35  TX_RESPOSTAS_CN         620 non-null    object \n",
      " 36  TX_RESPOSTAS_CH         674 non-null    object \n",
      " 37  TX_RESPOSTAS_LC         674 non-null    object \n",
      " 38  TX_RESPOSTAS_MT         620 non-null    object \n",
      " 39  TP_LINGUA               1000 non-null   int64  \n",
      " 40  TX_GABARITO_CN          620 non-null    object \n",
      " 41  TX_GABARITO_CH          674 non-null    object \n",
      " 42  TX_GABARITO_LC          674 non-null    object \n",
      " 43  TX_GABARITO_MT          620 non-null    object \n",
      " 44  TP_STATUS_REDACAO       674 non-null    float64\n",
      " 45  NU_NOTA_COMP1           674 non-null    float64\n",
      " 46  NU_NOTA_COMP2           674 non-null    float64\n",
      " 47  NU_NOTA_COMP3           674 non-null    float64\n",
      " 48  NU_NOTA_COMP4           674 non-null    float64\n",
      " 49  NU_NOTA_COMP5           674 non-null    float64\n",
      " 50  NU_NOTA_REDACAO         674 non-null    float64\n",
      " 51  Q001                    1000 non-null   object \n",
      " 52  Q002                    1000 non-null   object \n",
      " 53  Q003                    1000 non-null   object \n",
      " 54  Q004                    1000 non-null   object \n",
      " 55  Q005                    1000 non-null   int64  \n",
      " 56  Q006                    1000 non-null   object \n",
      " 57  Q007                    1000 non-null   object \n",
      " 58  Q008                    1000 non-null   object \n",
      " 59  Q009                    1000 non-null   object \n",
      " 60  Q010                    1000 non-null   object \n",
      " 61  Q011                    1000 non-null   object \n",
      " 62  Q012                    1000 non-null   object \n",
      " 63  Q013                    1000 non-null   object \n",
      " 64  Q014                    1000 non-null   object \n",
      " 65  Q015                    1000 non-null   object \n",
      " 66  Q016                    1000 non-null   object \n",
      " 67  Q017                    1000 non-null   object \n",
      " 68  Q018                    1000 non-null   object \n",
      " 69  Q019                    1000 non-null   object \n",
      " 70  Q020                    1000 non-null   object \n",
      " 71  Q021                    1000 non-null   object \n",
      " 72  Q022                    1000 non-null   object \n",
      " 73  Q023                    1000 non-null   object \n",
      " 74  Q024                    1000 non-null   object \n",
      " 75  Q025                    1000 non-null   object \n",
      "dtypes: float64(21), int64(18), object(37)\n",
      "memory usage: 593.9+ KB\n"
     ]
    }
   ],
   "source": [
    "dfEnem.info() #informações da base"
   ]
  },
  {
   "cell_type": "markdown",
   "metadata": {},
   "source": [
    "Aqui queremos filtrar um dataframe que tenha os participantes que responderam letra <b>\"E\"</b>*(Eu não concluí o Ensino Médio e nem estive matriculado(a) nesse período.)* na pergunta: *\"Considerando a etapa de Ensino Médio, qual dessas situações está de acordo com o seu vínculo escolar durante a pandemia?\"*"
   ]
  },
  {
   "cell_type": "code",
   "execution_count": 97,
   "metadata": {},
   "outputs": [],
   "source": [
    "NaoCMed = dfEnem[dfEnem['Q001'] == 'E']"
   ]
  },
  {
   "cell_type": "markdown",
   "metadata": {},
   "source": [
    "Aqui verificamos quantas linhas existem quando filtrado."
   ]
  },
  {
   "cell_type": "code",
   "execution_count": 98,
   "metadata": {},
   "outputs": [
    {
     "data": {
      "text/plain": [
       "(238, 76)"
      ]
     },
     "execution_count": 98,
     "metadata": {},
     "output_type": "execute_result"
    }
   ],
   "source": [
    "NaoCMed.shape"
   ]
  },
  {
   "cell_type": "markdown",
   "metadata": {},
   "source": [
    "Aqui verificamos quantos alunos tiveram a nota da REDAÇÃO *zerada*"
   ]
  },
  {
   "cell_type": "code",
   "execution_count": 53,
   "metadata": {},
   "outputs": [
    {
     "data": {
      "text/plain": [
       "8"
      ]
     },
     "execution_count": 53,
     "metadata": {},
     "output_type": "execute_result"
    }
   ],
   "source": [
    "notas_red_zero = NaoCMed[NaoCMed['NU_NOTA_REDACAO'] == 0]\n",
    "notas_red_zero = notas_red_zero['NU_NOTA_REDACAO'].count()\n",
    "notas_red_zero"
   ]
  },
  {
   "cell_type": "markdown",
   "metadata": {},
   "source": [
    "Verificando quais tem valores *nulos* ou seja não fizeram a redação."
   ]
  },
  {
   "cell_type": "code",
   "execution_count": 91,
   "metadata": {},
   "outputs": [
    {
     "data": {
      "text/plain": [
       "75"
      ]
     },
     "execution_count": 91,
     "metadata": {},
     "output_type": "execute_result"
    }
   ],
   "source": [
    "NaoCMed['NU_NOTA_REDACAO'].isnull().sum()"
   ]
  },
  {
   "cell_type": "markdown",
   "metadata": {},
   "source": [
    "Aqui fazemos a importação da biblioteca \"openai\"(API), math (usada para interpretar valores nulos) e time(usado pra dar pausa entre as requisições)."
   ]
  },
  {
   "cell_type": "code",
   "execution_count": 101,
   "metadata": {},
   "outputs": [],
   "source": [
    "\n",
    "import openai\n",
    "import math \n",
    "import time\n",
    "\n",
    "openai.api_key = \"SUA_CHAVE_API\" #Chave\n",
    "\n",
    "def gerar_mensagem_motivacao(n_inscricao, nota_red): #Função que gera as mensagens, com dois parâmetros\n",
    "  system_message = {\"role\": \"system\", \"content\": \"Você é muito gentil e motivador, crie mensagens diferentes\"} # mensagem inicial pro sistema\n",
    "    \n",
    "  if nota_red >= 600: #condicionais e mensagens para ser geradas\n",
    "    user_message = {\"role\": \"user\", \"content\" : f\"Crie uma mensagem motivacional para o inscrito do enem de numero {n_inscricao} que tirou uma nota alta ({nota_red}) na redação sabendo que a nota máxima é 1000 (se limite a 100 caracteres)(ENEM2022)\"}\n",
    "  elif math.isnan(nota_red): #se for nulo (não fez a redação)\n",
    "    user_message = {\"role\": \"user\", \"content\" : f\"Crie uma mensagem motivacional para o inscrito do enem de numero {n_inscricao} que não fez a redação (se limite a 100 caracteres)(ENEM2022)\"}\n",
    "  else:\n",
    "    user_message = {\"role\": \"user\", \"content\" : f\"Crie uma mensagem motivacional para o inscrito do enem de numero de inscrição {n_inscricao} que tirou uma nota baixa ({nota_red}) na redação (nota máxima é 1000) (se limite a 100 caracteres)(ENEM2022)\"}\n",
    "    \n",
    "  messages = [system_message, user_message]\n",
    "    \n",
    "  completion = openai.ChatCompletion.create( #fazendo a requisição\n",
    "      model=\"gpt-3.5-turbo\",\n",
    "      messages=messages\n",
    "    )\n",
    "  \n",
    "  return completion.choices[0].message.content #mensagem retornada\n",
    "\n"
   ]
  },
  {
   "cell_type": "code",
   "execution_count": 102,
   "metadata": {},
   "outputs": [],
   "source": [
    "msg_mot = NaoCMed[['NU_INSCRICAO','NU_NOTA_REDACAO']].iloc[1:20] # 19 linhas que foram geradas mensagens motivacionais\n",
    "msg_mot['MSG_MOTIVACAO'] = msg_mot.apply(lambda row: (time.sleep(20),gerar_mensagem_motivacao(row['NU_INSCRICAO'], row['NU_NOTA_REDACAO']))[1], axis=1) #criando coluna das mensagens e chamando a função pra geração\n"
   ]
  },
  {
   "cell_type": "code",
   "execution_count": 103,
   "metadata": {},
   "outputs": [
    {
     "data": {
      "text/html": [
       "<div>\n",
       "<style scoped>\n",
       "    .dataframe tbody tr th:only-of-type {\n",
       "        vertical-align: middle;\n",
       "    }\n",
       "\n",
       "    .dataframe tbody tr th {\n",
       "        vertical-align: top;\n",
       "    }\n",
       "\n",
       "    .dataframe thead th {\n",
       "        text-align: right;\n",
       "    }\n",
       "</style>\n",
       "<table border=\"1\" class=\"dataframe\">\n",
       "  <thead>\n",
       "    <tr style=\"text-align: right;\">\n",
       "      <th></th>\n",
       "      <th>NU_INSCRICAO</th>\n",
       "      <th>NU_NOTA_REDACAO</th>\n",
       "      <th>MSG_MOTIVACAO</th>\n",
       "    </tr>\n",
       "  </thead>\n",
       "  <tbody>\n",
       "    <tr>\n",
       "      <th>5</th>\n",
       "      <td>210057850231</td>\n",
       "      <td>NaN</td>\n",
       "      <td>Não desista! Ainda há tempo para brilhar. #ENE...</td>\n",
       "    </tr>\n",
       "    <tr>\n",
       "      <th>7</th>\n",
       "      <td>210055778089</td>\n",
       "      <td>440.0</td>\n",
       "      <td>\"Você é capaz de alcançar resultados incríveis...</td>\n",
       "    </tr>\n",
       "    <tr>\n",
       "      <th>9</th>\n",
       "      <td>210055461467</td>\n",
       "      <td>360.0</td>\n",
       "      <td>\"Não desista! A redação é apenas um desafio, v...</td>\n",
       "    </tr>\n",
       "    <tr>\n",
       "      <th>10</th>\n",
       "      <td>210055665589</td>\n",
       "      <td>NaN</td>\n",
       "      <td>Você é capaz de superar qualquer desafio! Acre...</td>\n",
       "    </tr>\n",
       "    <tr>\n",
       "      <th>11</th>\n",
       "      <td>210054972570</td>\n",
       "      <td>940.0</td>\n",
       "      <td>Parabéns pelo seu desempenho incrível na redaç...</td>\n",
       "    </tr>\n",
       "    <tr>\n",
       "      <th>14</th>\n",
       "      <td>210054861834</td>\n",
       "      <td>NaN</td>\n",
       "      <td>Você é capaz de fazer a diferença! Não desista...</td>\n",
       "    </tr>\n",
       "    <tr>\n",
       "      <th>23</th>\n",
       "      <td>210057706656</td>\n",
       "      <td>760.0</td>\n",
       "      <td>Parabéns pelo excelente resultado na redação d...</td>\n",
       "    </tr>\n",
       "    <tr>\n",
       "      <th>27</th>\n",
       "      <td>210057728624</td>\n",
       "      <td>640.0</td>\n",
       "      <td>Parabéns, 210057728624.0! Sua nota na redação ...</td>\n",
       "    </tr>\n",
       "    <tr>\n",
       "      <th>30</th>\n",
       "      <td>210056235916</td>\n",
       "      <td>640.0</td>\n",
       "      <td>Parabéns, campeão da redação! Sua nota é incrí...</td>\n",
       "    </tr>\n",
       "    <tr>\n",
       "      <th>33</th>\n",
       "      <td>210057182714</td>\n",
       "      <td>760.0</td>\n",
       "      <td>Parabéns, #210057182714! Sua pontuação na reda...</td>\n",
       "    </tr>\n",
       "    <tr>\n",
       "      <th>37</th>\n",
       "      <td>210056368452</td>\n",
       "      <td>360.0</td>\n",
       "      <td>\"Não deixe uma nota baixa definir o seu futuro...</td>\n",
       "    </tr>\n",
       "    <tr>\n",
       "      <th>41</th>\n",
       "      <td>210054839231</td>\n",
       "      <td>360.0</td>\n",
       "      <td>\"Não desista, a redação é apenas uma batalha. ...</td>\n",
       "    </tr>\n",
       "    <tr>\n",
       "      <th>44</th>\n",
       "      <td>210056524758</td>\n",
       "      <td>580.0</td>\n",
       "      <td>\"Não desanime! Seu potencial é imenso e o próx...</td>\n",
       "    </tr>\n",
       "    <tr>\n",
       "      <th>59</th>\n",
       "      <td>210054772114</td>\n",
       "      <td>520.0</td>\n",
       "      <td>\"Não desanime! A nota de redação não define se...</td>\n",
       "    </tr>\n",
       "    <tr>\n",
       "      <th>60</th>\n",
       "      <td>210054659789</td>\n",
       "      <td>660.0</td>\n",
       "      <td>Parabéns, 210054659789.0! Sua nota na redação ...</td>\n",
       "    </tr>\n",
       "    <tr>\n",
       "      <th>65</th>\n",
       "      <td>210057055338</td>\n",
       "      <td>NaN</td>\n",
       "      <td>Não desista, ainda há tempo para brilhar!</td>\n",
       "    </tr>\n",
       "    <tr>\n",
       "      <th>74</th>\n",
       "      <td>210056349699</td>\n",
       "      <td>NaN</td>\n",
       "      <td>Não desista! Ainda há tempo para brilhar. #ENE...</td>\n",
       "    </tr>\n",
       "    <tr>\n",
       "      <th>75</th>\n",
       "      <td>210055173052</td>\n",
       "      <td>NaN</td>\n",
       "      <td>\"Não desista, seu potencial é maior do que a f...</td>\n",
       "    </tr>\n",
       "    <tr>\n",
       "      <th>76</th>\n",
       "      <td>210057362807</td>\n",
       "      <td>NaN</td>\n",
       "      <td>Você pode fazer a diferença! Persista e supere...</td>\n",
       "    </tr>\n",
       "  </tbody>\n",
       "</table>\n",
       "</div>"
      ],
      "text/plain": [
       "    NU_INSCRICAO  NU_NOTA_REDACAO  \\\n",
       "5   210057850231              NaN   \n",
       "7   210055778089            440.0   \n",
       "9   210055461467            360.0   \n",
       "10  210055665589              NaN   \n",
       "11  210054972570            940.0   \n",
       "14  210054861834              NaN   \n",
       "23  210057706656            760.0   \n",
       "27  210057728624            640.0   \n",
       "30  210056235916            640.0   \n",
       "33  210057182714            760.0   \n",
       "37  210056368452            360.0   \n",
       "41  210054839231            360.0   \n",
       "44  210056524758            580.0   \n",
       "59  210054772114            520.0   \n",
       "60  210054659789            660.0   \n",
       "65  210057055338              NaN   \n",
       "74  210056349699              NaN   \n",
       "75  210055173052              NaN   \n",
       "76  210057362807              NaN   \n",
       "\n",
       "                                        MSG_MOTIVACAO  \n",
       "5   Não desista! Ainda há tempo para brilhar. #ENE...  \n",
       "7   \"Você é capaz de alcançar resultados incríveis...  \n",
       "9   \"Não desista! A redação é apenas um desafio, v...  \n",
       "10  Você é capaz de superar qualquer desafio! Acre...  \n",
       "11  Parabéns pelo seu desempenho incrível na redaç...  \n",
       "14  Você é capaz de fazer a diferença! Não desista...  \n",
       "23  Parabéns pelo excelente resultado na redação d...  \n",
       "27  Parabéns, 210057728624.0! Sua nota na redação ...  \n",
       "30  Parabéns, campeão da redação! Sua nota é incrí...  \n",
       "33  Parabéns, #210057182714! Sua pontuação na reda...  \n",
       "37  \"Não deixe uma nota baixa definir o seu futuro...  \n",
       "41  \"Não desista, a redação é apenas uma batalha. ...  \n",
       "44  \"Não desanime! Seu potencial é imenso e o próx...  \n",
       "59  \"Não desanime! A nota de redação não define se...  \n",
       "60  Parabéns, 210054659789.0! Sua nota na redação ...  \n",
       "65          Não desista, ainda há tempo para brilhar!  \n",
       "74  Não desista! Ainda há tempo para brilhar. #ENE...  \n",
       "75  \"Não desista, seu potencial é maior do que a f...  \n",
       "76  Você pode fazer a diferença! Persista e supere...  "
      ]
     },
     "execution_count": 103,
     "metadata": {},
     "output_type": "execute_result"
    }
   ],
   "source": [
    "msg_mot #Exibição do DataFrame"
   ]
  },
  {
   "cell_type": "code",
   "execution_count": 104,
   "metadata": {},
   "outputs": [],
   "source": [
    "msg_mot.to_excel('MotivacionalEnem.xlsx') #exporatando para excel"
   ]
  }
 ],
 "metadata": {
  "kernelspec": {
   "display_name": "Python 3",
   "language": "python",
   "name": "python3"
  },
  "language_info": {
   "codemirror_mode": {
    "name": "ipython",
    "version": 3
   },
   "file_extension": ".py",
   "mimetype": "text/x-python",
   "name": "python",
   "nbconvert_exporter": "python",
   "pygments_lexer": "ipython3",
   "version": "3.11.4"
  },
  "orig_nbformat": 4
 },
 "nbformat": 4,
 "nbformat_minor": 2
}
